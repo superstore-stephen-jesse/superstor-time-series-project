{
 "cells": [
  {
   "cell_type": "code",
   "execution_count": 1,
   "id": "1c95cab8-a1ef-4746-81b5-ce796f36d237",
   "metadata": {},
   "outputs": [],
   "source": [
    "from env import get_db_url\n",
    "import pandas as pd\n",
    "import acquire\n",
    "import prepare"
   ]
  },
  {
   "cell_type": "code",
   "execution_count": 2,
   "id": "07b35740-796e-47b6-b56c-1166d917b51f",
   "metadata": {},
   "outputs": [],
   "source": [
    "df = acquire.acquire_data()"
   ]
  },
  {
   "cell_type": "code",
   "execution_count": 3,
   "id": "6d0025e9-7b62-4cc7-ba58-ad480c19e4a8",
   "metadata": {},
   "outputs": [],
   "source": [
    "df = prepare.prepare_superstore(df)"
   ]
  },
  {
   "cell_type": "code",
   "execution_count": 4,
   "id": "5343980d-d767-4f46-bc2f-9181515662b6",
   "metadata": {},
   "outputs": [
    {
     "data": {
      "text/plain": [
       "Index(['region_id', 'product_id', 'customer_id', 'category_id', 'order_id',\n",
       "       'order_date', 'ship_date', 'ship_mode', 'segment', 'country', 'city',\n",
       "       'state', 'postal_code', 'sales', 'quantity', 'discount', 'profit',\n",
       "       'category', 'sub-category', 'customer_name', 'product_name',\n",
       "       'region_name'],\n",
       "      dtype='object')"
      ]
     },
     "execution_count": 4,
     "metadata": {},
     "output_type": "execute_result"
    }
   ],
   "source": [
    "df.columns"
   ]
  },
  {
   "cell_type": "code",
   "execution_count": 13,
   "id": "41477ce7-186f-4913-b53e-3724a23977d0",
   "metadata": {},
   "outputs": [
    {
     "data": {
      "text/plain": [
       "New York City    192\n",
       "Los Angeles      124\n",
       "Philadelphia     123\n",
       "San Francisco     96\n",
       "Seattle           62\n",
       "                ... \n",
       "Carlsbad           1\n",
       "Redlands           1\n",
       "Whittier           1\n",
       "Santa Clara        1\n",
       "Brownsville        1\n",
       "Name: city, Length: 247, dtype: int64"
      ]
     },
     "execution_count": 13,
     "metadata": {},
     "output_type": "execute_result"
    }
   ],
   "source": [
    "df.city.value_counts()"
   ]
  },
  {
   "cell_type": "code",
   "execution_count": 11,
   "id": "43765ab3-6911-48ff-843a-de282af407f6",
   "metadata": {},
   "outputs": [
    {
     "data": {
      "text/plain": [
       "977    2014-01-04\n",
       "978    2014-01-04\n",
       "979    2014-01-04\n",
       "942    2014-01-09\n",
       "941    2014-01-09\n",
       "          ...    \n",
       "952    2017-12-30\n",
       "1453   2017-12-30\n",
       "1452   2017-12-30\n",
       "1451   2017-12-30\n",
       "637    2017-12-30\n",
       "Name: order_date, Length: 1734, dtype: datetime64[ns]"
      ]
     },
     "execution_count": 11,
     "metadata": {},
     "output_type": "execute_result"
    }
   ],
   "source": [
    "df.order_date.sort_values()"
   ]
  },
  {
   "cell_type": "code",
   "execution_count": 12,
   "id": "0c61bfca-1e7f-4814-a4f9-94c019bed503",
   "metadata": {},
   "outputs": [
    {
     "data": {
      "text/plain": [
       "0        261.9600\n",
       "1        731.9400\n",
       "2        957.5775\n",
       "3         22.3680\n",
       "4         15.5520\n",
       "          ...    \n",
       "1729      47.7440\n",
       "1730     434.3520\n",
       "1731       3.5520\n",
       "1732      88.8320\n",
       "1733    1048.3500\n",
       "Name: sales, Length: 1734, dtype: float64"
      ]
     },
     "execution_count": 12,
     "metadata": {},
     "output_type": "execute_result"
    }
   ],
   "source": [
    "df.sales"
   ]
  },
  {
   "cell_type": "code",
   "execution_count": null,
   "id": "6f741c79-f35c-4e68-a06e-9b0fbacba617",
   "metadata": {},
   "outputs": [],
   "source": []
  }
 ],
 "metadata": {
  "kernelspec": {
   "display_name": "Python 3.9.7 64-bit ('base': conda)",
   "language": "python",
   "name": "python397jvsc74a57bd038cca0c38332a56087b24af0bc80247f4fced29cb4f7f437d91dc159adec9c4e"
  },
  "language_info": {
   "codemirror_mode": {
    "name": "ipython",
    "version": 3
   },
   "file_extension": ".py",
   "mimetype": "text/x-python",
   "name": "python",
   "nbconvert_exporter": "python",
   "pygments_lexer": "ipython3",
   "version": "3.9.7"
  }
 },
 "nbformat": 4,
 "nbformat_minor": 5
}
