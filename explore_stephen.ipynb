{
 "cells": [
  {
   "cell_type": "markdown",
   "id": "209dcc29",
   "metadata": {},
   "source": [
    "# Time Series Project\n",
    "## CodeUp Data Science | April 2022\n",
    "\n",
    "#### For this project you will be analyzing data from a superstore. The project is open ended and you can choose the direction you want to take it based on the paths outlined below.\n",
    "\n",
    "\n",
    "<hr>\n",
    "\n",
    "## SPEC:\n",
    "\n",
    "__VP of Product:__ Which product line should we expand?\n",
    "\n",
    "    - Is there a product category that is particularly profitable for us? Does one or another stand out in terms of sales volume? Does this vary by customer segment?\n",
    "\n"
   ]
  },
  {
   "cell_type": "markdown",
   "id": "3e058fc6",
   "metadata": {},
   "source": [
    "### Import libraries"
   ]
  },
  {
   "cell_type": "code",
   "execution_count": 1,
   "id": "bdcd739b",
   "metadata": {},
   "outputs": [
    {
     "ename": "ModuleNotFoundError",
     "evalue": "No module named 'acquire_stephen'",
     "output_type": "error",
     "traceback": [
      "\u001b[0;31m---------------------------------------------------------------------------\u001b[0m",
      "\u001b[0;31mModuleNotFoundError\u001b[0m                       Traceback (most recent call last)",
      "\u001b[0;32m/var/folders/b2/3fdswr7x4v5fhdt54wpcfmdw0000gn/T/ipykernel_25919/631911738.py\u001b[0m in \u001b[0;36m<module>\u001b[0;34m\u001b[0m\n\u001b[1;32m      5\u001b[0m \u001b[0;34m\u001b[0m\u001b[0m\n\u001b[1;32m      6\u001b[0m \u001b[0;31m# Import Stephen's files\u001b[0m\u001b[0;34m\u001b[0m\u001b[0;34m\u001b[0m\u001b[0m\n\u001b[0;32m----> 7\u001b[0;31m \u001b[0;32mimport\u001b[0m \u001b[0macquire_stephen\u001b[0m\u001b[0;34m\u001b[0m\u001b[0;34m\u001b[0m\u001b[0m\n\u001b[0m\u001b[1;32m      8\u001b[0m \u001b[0;32mimport\u001b[0m \u001b[0mprepare_stephen\u001b[0m\u001b[0;34m\u001b[0m\u001b[0;34m\u001b[0m\u001b[0m\n\u001b[1;32m      9\u001b[0m \u001b[0;34m\u001b[0m\u001b[0m\n",
      "\u001b[0;31mModuleNotFoundError\u001b[0m: No module named 'acquire_stephen'"
     ]
    }
   ],
   "source": [
    "import pandas as pd\n",
    "import numpy as np\n",
    "import matplotlib.pyplot as plt\n",
    "import seaborn as sns\n",
    "\n",
    "# Import Stephen's files\n",
    "import acquire_stephen \n",
    "import prepare_stephen \n",
    "\n",
    "# Import jesse's files\n",
    "import acquire_jesse\n",
    "import prepare_jesse\n"
   ]
  },
  {
   "cell_type": "code",
   "execution_count": null,
   "id": "cfed0381",
   "metadata": {},
   "outputs": [],
   "source": [
    "df = prepare_superstore_data"
   ]
  }
 ],
 "metadata": {
  "kernelspec": {
   "display_name": "Python 3 (ipykernel)",
   "language": "python",
   "name": "python3"
  },
  "language_info": {
   "codemirror_mode": {
    "name": "ipython",
    "version": 3
   },
   "file_extension": ".py",
   "mimetype": "text/x-python",
   "name": "python",
   "nbconvert_exporter": "python",
   "pygments_lexer": "ipython3",
   "version": "3.9.7"
  }
 },
 "nbformat": 4,
 "nbformat_minor": 5
}
